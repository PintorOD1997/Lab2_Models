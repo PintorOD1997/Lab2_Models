{
 "cells": [
  {
   "cell_type": "markdown",
   "metadata": {},
   "source": [
    "<center> <img src=\"https://jaliscocomovamos.org/wp-content/uploads/2021/04/iteso-logo.jpg\" align=\"center\" width=\"960\" height=\"480\"/> </center>"
   ]
  },
  {
   "cell_type": "markdown",
   "metadata": {},
   "source": [
    "<center><font color=#555555><font size=6> ITESO </font> <br> <br>\n",
    "    \n",
    "<center><font color=#555555><font size=5> Microstructure and Trading systems</font> <br> <br> <br> <br>\n",
    "\n",
    "<center><font color=#555555><font size=6> Diego Pintor Ochoa, if726622@iteso.mx </font> <br> <br>\n",
    "   \n",
    "<center> <font color= #555555> <font size = 4> June 2022 </a> | <font color= #555555> <font size = 4> Repository: <a href='https://github.com/PintorOD1997/Lab1-Market-Microstructure-'>Link</a></font>"
   ]
  },
  {
   "cell_type": "markdown",
   "metadata": {},
   "source": [
    "<hr style=\"border:0.02in solid gray\"> </hr>"
   ]
  },
  {
   "cell_type": "markdown",
   "metadata": {},
   "source": [
    "<center> <font color= #555555> <font size = 6> Laboratory 1 </font> <br> <br> <font color= #555555> <font size = 5> Market Microstructure  </font>"
   ]
  },
  {
   "cell_type": "markdown",
   "metadata": {},
   "source": [
    "<hr style=\"border:0.02in solid gray\"> </hr>"
   ]
  },
  {
   "cell_type": "markdown",
   "metadata": {},
   "source": [
    "<br>"
   ]
  },
  {
   "cell_type": "markdown",
   "metadata": {},
   "source": [
    "<font color= #555555> <font size = 4> Abstract </font>"
   ]
  },
  {
   "cell_type": "markdown",
   "metadata": {},
   "source": [
    "<font color= #6B6B6B> <font size = 3>  This Laboratory was created with the purpose of demonstrating the basic metrics of the OrderBooks and Public Trades, providing quantitative insights on them, and highlighting the main concepts that will be used throughout the course.</font>"
   ]
  },
  {
   "cell_type": "markdown",
   "metadata": {},
   "source": [
    "<br>"
   ]
  },
  {
   "cell_type": "markdown",
   "metadata": {},
   "source": [
    "# <font color= #6B6B6B> <font size = 6> 1. Introduction </font>"
   ]
  },
  {
   "cell_type": "markdown",
   "metadata": {},
   "source": [
    "<hr style=\"border:0.02in solid gray\"> </hr>"
   ]
  },
  {
   "cell_type": "markdown",
   "metadata": {},
   "source": [
    "Market microstructure is a branch of finance concerned with the details of how exchange occurs in markets. While the theory of market microstructure applies to the exchange of real or financial assets, more evidence is available on the microstructure of financial markets due to the availability of transactions data from them.\n",
    "\n",
    "The major thrust of market microstructure research examines the ways in which the working processes of a market affect determinants of transaction costs, prices, quotes, volume, and trading behavior. In the twenty-first century, innovations have allowed an expansion into the study of the impact of market microstructure on the incidence of market abuse, such as insider trading, market manipulation and broker-client conflict.\n",
    "\n"
   ]
  },
  {
   "cell_type": "markdown",
   "metadata": {},
   "source": [
    "<br>"
   ]
  },
  {
   "cell_type": "markdown",
   "metadata": {},
   "source": [
    "# <font color= #6B6B6B> 2. Install/Load Packages and Depedencies </font>"
   ]
  },
  {
   "cell_type": "markdown",
   "metadata": {},
   "source": [
    "<hr style=\"border:0.02in solid gray\"> </hr>"
   ]
  },
  {
   "cell_type": "markdown",
   "metadata": {},
   "source": [
    "## <font color= #6B6B6B> 2.1 Python Packages </font> <font color= #555555>"
   ]
  },
  {
   "cell_type": "markdown",
   "metadata": {},
   "source": [
    "In order to run this notebook, it is necessary to have installed and/or have the _requirements.txt_ file with the following: "
   ]
  },
  {
   "cell_type": "markdown",
   "metadata": {},
   "source": [
    "- pandas>=1.4.2\n",
    "- numpy>=1.18.5\n",
    "- jupyter>=1.0.0\n",
    "- plotly>=4.14\n"
   ]
  },
  {
   "cell_type": "markdown",
   "metadata": {},
   "source": [
    "## <font color= #6B6B6B> 2.2 Files Dependencies </font> <font color= #555555>"
   ]
  },
  {
   "cell_type": "markdown",
   "metadata": {},
   "source": [
    "The following are the file dependencies that are needed to run this notebook:"
   ]
  },
  {
   "cell_type": "markdown",
   "metadata": {},
   "source": [
    "- files/orderbooks_05jul21.json : Orderbook in JSON format\n",
    "- files/btcusdt_binance.csv : Public Trades in CSV format"
   ]
  },
  {
   "cell_type": "markdown",
   "metadata": {},
   "source": [
    "## <font color= #6E6E6E> 2.3 Install Packages</font>"
   ]
  },
  {
   "cell_type": "code",
   "execution_count": 3,
   "metadata": {},
   "outputs": [],
   "source": [
    "%%capture\n",
    "#!{sys.executable} -m pip install -r requirements.txt\n",
    "# Install all the pip packages in the requirements.txt\n",
    "import numpy as np\n",
    "import pandas as pd\n",
    "import data as dt\n",
    "import functions\n"
   ]
  },
  {
   "cell_type": "markdown",
   "metadata": {},
   "source": [
    "<br>"
   ]
  },
  {
   "cell_type": "markdown",
   "metadata": {},
   "source": [
    "# <font color= #6B6B6B> 3. Data Description </font>"
   ]
  },
  {
   "cell_type": "markdown",
   "metadata": {},
   "source": [
    "<hr style=\"border:0.02in solid gray\"> </hr>"
   ]
  },
  {
   "cell_type": "code",
   "execution_count": 4,
   "metadata": {},
   "outputs": [],
   "source": [
    "# Load Data\n",
    "OB = dt.openOB()\n",
    "PT = dt.openPT()\n"
   ]
  },
  {
   "cell_type": "code",
   "execution_count": 6,
   "metadata": {},
   "outputs": [],
   "source": [
    "OBmetrics,m1,m4= functions.OB_metrics(OB)\n",
    "OBohlcv = functions.OB_OHLCV(OBmetrics)\n",
    "OBIMBmoments = functions.OBIMB_Moments(OBmetrics)\n",
    "tradesHora, volume, count, OHLCV = functions.PT_metrics(PT)"
   ]
  },
  {
   "cell_type": "markdown",
   "metadata": {},
   "source": [
    "# <font color= #6B6B6B> 4.1. OrderBook Basic Metrics  </font>"
   ]
  },
  {
   "cell_type": "code",
   "execution_count": 7,
   "metadata": {
    "scrolled": true
   },
   "outputs": [
    {
     "data": {
      "text/html": [
       "<div>\n",
       "<style scoped>\n",
       "    .dataframe tbody tr th:only-of-type {\n",
       "        vertical-align: middle;\n",
       "    }\n",
       "\n",
       "    .dataframe tbody tr th {\n",
       "        vertical-align: top;\n",
       "    }\n",
       "\n",
       "    .dataframe thead th {\n",
       "        text-align: right;\n",
       "    }\n",
       "</style>\n",
       "<table border=\"1\" class=\"dataframe\">\n",
       "  <thead>\n",
       "    <tr style=\"text-align: right;\">\n",
       "      <th></th>\n",
       "      <th>Spread</th>\n",
       "      <th>Mid Price</th>\n",
       "      <th>Bid Volume</th>\n",
       "      <th>Ask Volume</th>\n",
       "      <th>Total Volume</th>\n",
       "      <th>OrderBook Imbalance</th>\n",
       "      <th>Weighted MidPrice (Ask)</th>\n",
       "      <th>Weighted MidPrice (Bid)</th>\n",
       "      <th>VWAP</th>\n",
       "      <th>Bids ToB</th>\n",
       "      <th>Asks ToB</th>\n",
       "    </tr>\n",
       "  </thead>\n",
       "  <tbody>\n",
       "    <tr>\n",
       "      <th>2021-07-05 13:06:46.571000+00:00</th>\n",
       "      <td>5.0</td>\n",
       "      <td>28272.5</td>\n",
       "      <td>32.100178</td>\n",
       "      <td>31.699457</td>\n",
       "      <td>63.799634</td>\n",
       "      <td>0.503140</td>\n",
       "      <td>14225.039010</td>\n",
       "      <td>28272.515925</td>\n",
       "      <td>28272.484298</td>\n",
       "      <td>28270.0</td>\n",
       "      <td>28275.0</td>\n",
       "    </tr>\n",
       "    <tr>\n",
       "      <th>2021-07-05 13:06:47.918000+00:00</th>\n",
       "      <td>5.0</td>\n",
       "      <td>28272.5</td>\n",
       "      <td>32.100178</td>\n",
       "      <td>31.699457</td>\n",
       "      <td>63.799634</td>\n",
       "      <td>0.503140</td>\n",
       "      <td>14225.039010</td>\n",
       "      <td>28272.515925</td>\n",
       "      <td>28272.484298</td>\n",
       "      <td>28270.0</td>\n",
       "      <td>28275.0</td>\n",
       "    </tr>\n",
       "    <tr>\n",
       "      <th>2021-07-05 13:06:49.414000+00:00</th>\n",
       "      <td>5.0</td>\n",
       "      <td>28272.5</td>\n",
       "      <td>32.100178</td>\n",
       "      <td>31.699457</td>\n",
       "      <td>63.799634</td>\n",
       "      <td>0.503140</td>\n",
       "      <td>14225.039010</td>\n",
       "      <td>28272.515925</td>\n",
       "      <td>28272.484298</td>\n",
       "      <td>28270.0</td>\n",
       "      <td>28275.0</td>\n",
       "    </tr>\n",
       "    <tr>\n",
       "      <th>2021-07-05 13:06:51.077000+00:00</th>\n",
       "      <td>3.0</td>\n",
       "      <td>28276.5</td>\n",
       "      <td>36.263315</td>\n",
       "      <td>36.929183</td>\n",
       "      <td>73.192497</td>\n",
       "      <td>0.495451</td>\n",
       "      <td>14009.627607</td>\n",
       "      <td>28276.486545</td>\n",
       "      <td>28276.513646</td>\n",
       "      <td>28275.0</td>\n",
       "      <td>28278.0</td>\n",
       "    </tr>\n",
       "    <tr>\n",
       "      <th>2021-07-05 13:06:52.426000+00:00</th>\n",
       "      <td>3.0</td>\n",
       "      <td>28276.5</td>\n",
       "      <td>36.263315</td>\n",
       "      <td>36.929183</td>\n",
       "      <td>73.192497</td>\n",
       "      <td>0.495451</td>\n",
       "      <td>14009.627607</td>\n",
       "      <td>28276.486545</td>\n",
       "      <td>28276.513646</td>\n",
       "      <td>28275.0</td>\n",
       "      <td>28278.0</td>\n",
       "    </tr>\n",
       "    <tr>\n",
       "      <th>...</th>\n",
       "      <td>...</td>\n",
       "      <td>...</td>\n",
       "      <td>...</td>\n",
       "      <td>...</td>\n",
       "      <td>...</td>\n",
       "      <td>...</td>\n",
       "      <td>...</td>\n",
       "      <td>...</td>\n",
       "      <td>...</td>\n",
       "      <td>...</td>\n",
       "      <td>...</td>\n",
       "    </tr>\n",
       "    <tr>\n",
       "      <th>2021-07-05 14:06:40.583000+00:00</th>\n",
       "      <td>7.0</td>\n",
       "      <td>28358.5</td>\n",
       "      <td>19.984121</td>\n",
       "      <td>23.940057</td>\n",
       "      <td>43.924178</td>\n",
       "      <td>0.454969</td>\n",
       "      <td>12902.226545</td>\n",
       "      <td>28358.184780</td>\n",
       "      <td>28358.815220</td>\n",
       "      <td>28355.0</td>\n",
       "      <td>28362.0</td>\n",
       "    </tr>\n",
       "    <tr>\n",
       "      <th>2021-07-05 14:06:41.919000+00:00</th>\n",
       "      <td>7.0</td>\n",
       "      <td>28358.5</td>\n",
       "      <td>19.984121</td>\n",
       "      <td>23.940057</td>\n",
       "      <td>43.924178</td>\n",
       "      <td>0.454969</td>\n",
       "      <td>12902.226545</td>\n",
       "      <td>28358.184780</td>\n",
       "      <td>28358.815220</td>\n",
       "      <td>28355.0</td>\n",
       "      <td>28362.0</td>\n",
       "    </tr>\n",
       "    <tr>\n",
       "      <th>2021-07-05 14:06:43.416000+00:00</th>\n",
       "      <td>7.0</td>\n",
       "      <td>28358.5</td>\n",
       "      <td>19.984121</td>\n",
       "      <td>23.940057</td>\n",
       "      <td>43.924178</td>\n",
       "      <td>0.454969</td>\n",
       "      <td>12902.226545</td>\n",
       "      <td>28358.184780</td>\n",
       "      <td>28358.815220</td>\n",
       "      <td>28355.0</td>\n",
       "      <td>28362.0</td>\n",
       "    </tr>\n",
       "    <tr>\n",
       "      <th>2021-07-05 14:06:45.070000+00:00</th>\n",
       "      <td>5.0</td>\n",
       "      <td>28356.5</td>\n",
       "      <td>18.140884</td>\n",
       "      <td>22.614192</td>\n",
       "      <td>40.755075</td>\n",
       "      <td>0.445120</td>\n",
       "      <td>12622.034854</td>\n",
       "      <td>28356.225908</td>\n",
       "      <td>28356.774402</td>\n",
       "      <td>28354.0</td>\n",
       "      <td>28359.0</td>\n",
       "    </tr>\n",
       "    <tr>\n",
       "      <th>2021-07-05 14:06:46.412000+00:00</th>\n",
       "      <td>5.0</td>\n",
       "      <td>28356.5</td>\n",
       "      <td>18.140884</td>\n",
       "      <td>22.614192</td>\n",
       "      <td>40.755075</td>\n",
       "      <td>0.445120</td>\n",
       "      <td>12622.034854</td>\n",
       "      <td>28356.225908</td>\n",
       "      <td>28356.774402</td>\n",
       "      <td>28354.0</td>\n",
       "      <td>28359.0</td>\n",
       "    </tr>\n",
       "  </tbody>\n",
       "</table>\n",
       "<p>2401 rows × 11 columns</p>\n",
       "</div>"
      ],
      "text/plain": [
       "                                  Spread  Mid Price  Bid Volume  Ask Volume  \\\n",
       "2021-07-05 13:06:46.571000+00:00     5.0    28272.5   32.100178   31.699457   \n",
       "2021-07-05 13:06:47.918000+00:00     5.0    28272.5   32.100178   31.699457   \n",
       "2021-07-05 13:06:49.414000+00:00     5.0    28272.5   32.100178   31.699457   \n",
       "2021-07-05 13:06:51.077000+00:00     3.0    28276.5   36.263315   36.929183   \n",
       "2021-07-05 13:06:52.426000+00:00     3.0    28276.5   36.263315   36.929183   \n",
       "...                                  ...        ...         ...         ...   \n",
       "2021-07-05 14:06:40.583000+00:00     7.0    28358.5   19.984121   23.940057   \n",
       "2021-07-05 14:06:41.919000+00:00     7.0    28358.5   19.984121   23.940057   \n",
       "2021-07-05 14:06:43.416000+00:00     7.0    28358.5   19.984121   23.940057   \n",
       "2021-07-05 14:06:45.070000+00:00     5.0    28356.5   18.140884   22.614192   \n",
       "2021-07-05 14:06:46.412000+00:00     5.0    28356.5   18.140884   22.614192   \n",
       "\n",
       "                                  Total Volume  OrderBook Imbalance  \\\n",
       "2021-07-05 13:06:46.571000+00:00     63.799634             0.503140   \n",
       "2021-07-05 13:06:47.918000+00:00     63.799634             0.503140   \n",
       "2021-07-05 13:06:49.414000+00:00     63.799634             0.503140   \n",
       "2021-07-05 13:06:51.077000+00:00     73.192497             0.495451   \n",
       "2021-07-05 13:06:52.426000+00:00     73.192497             0.495451   \n",
       "...                                        ...                  ...   \n",
       "2021-07-05 14:06:40.583000+00:00     43.924178             0.454969   \n",
       "2021-07-05 14:06:41.919000+00:00     43.924178             0.454969   \n",
       "2021-07-05 14:06:43.416000+00:00     43.924178             0.454969   \n",
       "2021-07-05 14:06:45.070000+00:00     40.755075             0.445120   \n",
       "2021-07-05 14:06:46.412000+00:00     40.755075             0.445120   \n",
       "\n",
       "                                  Weighted MidPrice (Ask)  \\\n",
       "2021-07-05 13:06:46.571000+00:00             14225.039010   \n",
       "2021-07-05 13:06:47.918000+00:00             14225.039010   \n",
       "2021-07-05 13:06:49.414000+00:00             14225.039010   \n",
       "2021-07-05 13:06:51.077000+00:00             14009.627607   \n",
       "2021-07-05 13:06:52.426000+00:00             14009.627607   \n",
       "...                                                   ...   \n",
       "2021-07-05 14:06:40.583000+00:00             12902.226545   \n",
       "2021-07-05 14:06:41.919000+00:00             12902.226545   \n",
       "2021-07-05 14:06:43.416000+00:00             12902.226545   \n",
       "2021-07-05 14:06:45.070000+00:00             12622.034854   \n",
       "2021-07-05 14:06:46.412000+00:00             12622.034854   \n",
       "\n",
       "                                  Weighted MidPrice (Bid)          VWAP  \\\n",
       "2021-07-05 13:06:46.571000+00:00             28272.515925  28272.484298   \n",
       "2021-07-05 13:06:47.918000+00:00             28272.515925  28272.484298   \n",
       "2021-07-05 13:06:49.414000+00:00             28272.515925  28272.484298   \n",
       "2021-07-05 13:06:51.077000+00:00             28276.486545  28276.513646   \n",
       "2021-07-05 13:06:52.426000+00:00             28276.486545  28276.513646   \n",
       "...                                                   ...           ...   \n",
       "2021-07-05 14:06:40.583000+00:00             28358.184780  28358.815220   \n",
       "2021-07-05 14:06:41.919000+00:00             28358.184780  28358.815220   \n",
       "2021-07-05 14:06:43.416000+00:00             28358.184780  28358.815220   \n",
       "2021-07-05 14:06:45.070000+00:00             28356.225908  28356.774402   \n",
       "2021-07-05 14:06:46.412000+00:00             28356.225908  28356.774402   \n",
       "\n",
       "                                  Bids ToB  Asks ToB  \n",
       "2021-07-05 13:06:46.571000+00:00   28270.0   28275.0  \n",
       "2021-07-05 13:06:47.918000+00:00   28270.0   28275.0  \n",
       "2021-07-05 13:06:49.414000+00:00   28270.0   28275.0  \n",
       "2021-07-05 13:06:51.077000+00:00   28275.0   28278.0  \n",
       "2021-07-05 13:06:52.426000+00:00   28275.0   28278.0  \n",
       "...                                    ...       ...  \n",
       "2021-07-05 14:06:40.583000+00:00   28355.0   28362.0  \n",
       "2021-07-05 14:06:41.919000+00:00   28355.0   28362.0  \n",
       "2021-07-05 14:06:43.416000+00:00   28355.0   28362.0  \n",
       "2021-07-05 14:06:45.070000+00:00   28354.0   28359.0  \n",
       "2021-07-05 14:06:46.412000+00:00   28354.0   28359.0  \n",
       "\n",
       "[2401 rows x 11 columns]"
      ]
     },
     "execution_count": 7,
     "metadata": {},
     "output_type": "execute_result"
    }
   ],
   "source": [
    "OBmetrics"
   ]
  },
  {
   "cell_type": "markdown",
   "metadata": {},
   "source": [
    "### Median of time between trades (m1) and Number of Price Levels in the OrderBook (m4)"
   ]
  },
  {
   "cell_type": "code",
   "execution_count": 12,
   "metadata": {},
   "outputs": [
    {
     "data": {
      "text/plain": [
       "(1500.0, 25)"
      ]
     },
     "execution_count": 12,
     "metadata": {},
     "output_type": "execute_result"
    }
   ],
   "source": [
    "m1,m4[0]"
   ]
  },
  {
   "cell_type": "markdown",
   "metadata": {},
   "source": [
    "# <font color= #6B6B6B> 4.2. OrderBook Open, High, Low, Close, Volume (OHLCV)  </font>"
   ]
  },
  {
   "cell_type": "code",
   "execution_count": 13,
   "metadata": {},
   "outputs": [
    {
     "data": {
      "text/html": [
       "<div>\n",
       "<style scoped>\n",
       "    .dataframe tbody tr th:only-of-type {\n",
       "        vertical-align: middle;\n",
       "    }\n",
       "\n",
       "    .dataframe tbody tr th {\n",
       "        vertical-align: top;\n",
       "    }\n",
       "\n",
       "    .dataframe thead tr th {\n",
       "        text-align: left;\n",
       "    }\n",
       "</style>\n",
       "<table border=\"1\" class=\"dataframe\">\n",
       "  <thead>\n",
       "    <tr>\n",
       "      <th></th>\n",
       "      <th colspan=\"4\" halign=\"left\">Mid Price</th>\n",
       "      <th>Total Volume</th>\n",
       "    </tr>\n",
       "    <tr>\n",
       "      <th></th>\n",
       "      <th>open</th>\n",
       "      <th>high</th>\n",
       "      <th>low</th>\n",
       "      <th>close</th>\n",
       "      <th>Total Volume</th>\n",
       "    </tr>\n",
       "  </thead>\n",
       "  <tbody>\n",
       "    <tr>\n",
       "      <th>2021-07-05 13:06:30+00:00</th>\n",
       "      <td>28272.5</td>\n",
       "      <td>28282.5</td>\n",
       "      <td>28272.5</td>\n",
       "      <td>28282.5</td>\n",
       "      <td>583.699035</td>\n",
       "    </tr>\n",
       "    <tr>\n",
       "      <th>2021-07-05 13:07:00+00:00</th>\n",
       "      <td>28296.0</td>\n",
       "      <td>28302.0</td>\n",
       "      <td>28285.0</td>\n",
       "      <td>28285.0</td>\n",
       "      <td>1373.052492</td>\n",
       "    </tr>\n",
       "    <tr>\n",
       "      <th>2021-07-05 13:07:30+00:00</th>\n",
       "      <td>28287.5</td>\n",
       "      <td>28324.0</td>\n",
       "      <td>28287.5</td>\n",
       "      <td>28324.0</td>\n",
       "      <td>1234.500021</td>\n",
       "    </tr>\n",
       "    <tr>\n",
       "      <th>2021-07-05 13:08:00+00:00</th>\n",
       "      <td>28324.0</td>\n",
       "      <td>28324.0</td>\n",
       "      <td>28300.0</td>\n",
       "      <td>28304.0</td>\n",
       "      <td>1260.196650</td>\n",
       "    </tr>\n",
       "    <tr>\n",
       "      <th>2021-07-05 13:08:30+00:00</th>\n",
       "      <td>28305.5</td>\n",
       "      <td>28312.0</td>\n",
       "      <td>28305.5</td>\n",
       "      <td>28312.0</td>\n",
       "      <td>1373.692761</td>\n",
       "    </tr>\n",
       "    <tr>\n",
       "      <th>...</th>\n",
       "      <td>...</td>\n",
       "      <td>...</td>\n",
       "      <td>...</td>\n",
       "      <td>...</td>\n",
       "      <td>...</td>\n",
       "    </tr>\n",
       "    <tr>\n",
       "      <th>2021-07-05 14:04:30+00:00</th>\n",
       "      <td>28327.0</td>\n",
       "      <td>28346.0</td>\n",
       "      <td>28327.0</td>\n",
       "      <td>28346.0</td>\n",
       "      <td>894.831927</td>\n",
       "    </tr>\n",
       "    <tr>\n",
       "      <th>2021-07-05 14:05:00+00:00</th>\n",
       "      <td>28349.0</td>\n",
       "      <td>28349.0</td>\n",
       "      <td>28329.5</td>\n",
       "      <td>28340.0</td>\n",
       "      <td>859.527106</td>\n",
       "    </tr>\n",
       "    <tr>\n",
       "      <th>2021-07-05 14:05:30+00:00</th>\n",
       "      <td>28340.0</td>\n",
       "      <td>28359.5</td>\n",
       "      <td>28340.0</td>\n",
       "      <td>28358.0</td>\n",
       "      <td>718.759583</td>\n",
       "    </tr>\n",
       "    <tr>\n",
       "      <th>2021-07-05 14:06:00+00:00</th>\n",
       "      <td>28358.0</td>\n",
       "      <td>28364.5</td>\n",
       "      <td>28358.0</td>\n",
       "      <td>28364.5</td>\n",
       "      <td>842.897646</td>\n",
       "    </tr>\n",
       "    <tr>\n",
       "      <th>2021-07-05 14:06:30+00:00</th>\n",
       "      <td>28364.5</td>\n",
       "      <td>28364.5</td>\n",
       "      <td>28356.5</td>\n",
       "      <td>28356.5</td>\n",
       "      <td>455.790087</td>\n",
       "    </tr>\n",
       "  </tbody>\n",
       "</table>\n",
       "<p>121 rows × 5 columns</p>\n",
       "</div>"
      ],
      "text/plain": [
       "                          Mid Price                            Total Volume\n",
       "                               open     high      low    close Total Volume\n",
       "2021-07-05 13:06:30+00:00   28272.5  28282.5  28272.5  28282.5   583.699035\n",
       "2021-07-05 13:07:00+00:00   28296.0  28302.0  28285.0  28285.0  1373.052492\n",
       "2021-07-05 13:07:30+00:00   28287.5  28324.0  28287.5  28324.0  1234.500021\n",
       "2021-07-05 13:08:00+00:00   28324.0  28324.0  28300.0  28304.0  1260.196650\n",
       "2021-07-05 13:08:30+00:00   28305.5  28312.0  28305.5  28312.0  1373.692761\n",
       "...                             ...      ...      ...      ...          ...\n",
       "2021-07-05 14:04:30+00:00   28327.0  28346.0  28327.0  28346.0   894.831927\n",
       "2021-07-05 14:05:00+00:00   28349.0  28349.0  28329.5  28340.0   859.527106\n",
       "2021-07-05 14:05:30+00:00   28340.0  28359.5  28340.0  28358.0   718.759583\n",
       "2021-07-05 14:06:00+00:00   28358.0  28364.5  28358.0  28364.5   842.897646\n",
       "2021-07-05 14:06:30+00:00   28364.5  28364.5  28356.5  28356.5   455.790087\n",
       "\n",
       "[121 rows x 5 columns]"
      ]
     },
     "execution_count": 13,
     "metadata": {},
     "output_type": "execute_result"
    }
   ],
   "source": [
    "OBohlcv"
   ]
  },
  {
   "cell_type": "markdown",
   "metadata": {},
   "source": [
    "# <font color= #6B6B6B> 4.3. OrderBook Imbalance Moments (Mean, Variance, Skewness, Kurtosis)  </font>"
   ]
  },
  {
   "cell_type": "code",
   "execution_count": 26,
   "metadata": {},
   "outputs": [
    {
     "data": {
      "text/plain": [
       "{'Mean': 0.3675593708841436,\n",
       " 'Variance': 0.012447697761364186,\n",
       " 'Skewness': 0.3924826521789637,\n",
       " 'Kurtosis': 0.1960527433391892}"
      ]
     },
     "execution_count": 26,
     "metadata": {},
     "output_type": "execute_result"
    }
   ],
   "source": [
    "OBIMBmoments"
   ]
  },
  {
   "cell_type": "code",
   "execution_count": 38,
   "metadata": {},
   "outputs": [
    {
     "data": {
      "image/png": "[encoded data removed]",
      "text/plain": [
       "<Figure size 432x288 with 1 Axes>"
      ]
     },
     "metadata": {
      "needs_background": "light"
     },
     "output_type": "display_data"
    }
   ],
   "source": [
    "import matplotlib.pyplot as plt\n",
    "plt.hist(OBmetrics[\"OrderBook Imbalance\"],bins=\"auto\",density = True);"
   ]
  },
  {
   "cell_type": "markdown",
   "metadata": {},
   "source": [
    "# <font color= #6B6B6B> 4.4. Public Trades Hourly Trades  </font>"
   ]
  },
  {
   "cell_type": "code",
   "execution_count": 16,
   "metadata": {},
   "outputs": [
    {
     "data": {
      "text/plain": [
       "timestamp\n",
       "2022-05-10 00:00:00    12000\n",
       "2022-05-10 01:00:00    11900\n",
       "2022-05-10 02:00:00    11900\n",
       "2022-05-10 03:00:00    11900\n",
       "2022-05-10 04:00:00    12000\n",
       "Freq: 60T, Name: side, dtype: int64"
      ]
     },
     "execution_count": 16,
     "metadata": {},
     "output_type": "execute_result"
    }
   ],
   "source": [
    "tradesHora.head()"
   ]
  },
  {
   "cell_type": "markdown",
   "metadata": {},
   "source": [
    "# <font color= #6B6B6B> 4.5. Sell and Buy Volume, Difference in Trade Count  </font>"
   ]
  },
  {
   "cell_type": "code",
   "execution_count": 20,
   "metadata": {},
   "outputs": [
    {
     "data": {
      "text/plain": [
       "side\n",
       "buy      7338.91217\n",
       "sell    10148.21080\n",
       "Name: amount, dtype: float64"
      ]
     },
     "execution_count": 20,
     "metadata": {},
     "output_type": "execute_result"
    }
   ],
   "source": [
    "volume"
   ]
  },
  {
   "cell_type": "code",
   "execution_count": 21,
   "metadata": {},
   "outputs": [
    {
     "data": {
      "text/plain": [
       "1300"
      ]
     },
     "execution_count": 21,
     "metadata": {},
     "output_type": "execute_result"
    }
   ],
   "source": [
    "count"
   ]
  },
  {
   "cell_type": "markdown",
   "metadata": {},
   "source": [
    "<br>"
   ]
  },
  {
   "cell_type": "markdown",
   "metadata": {},
   "source": [
    "# <font color= #6B6B6B> 4.6 Public Trades OHLVC  </font>"
   ]
  },
  {
   "cell_type": "code",
   "execution_count": 24,
   "metadata": {},
   "outputs": [
    {
     "data": {
      "text/html": [
       "<div>\n",
       "<style scoped>\n",
       "    .dataframe tbody tr th:only-of-type {\n",
       "        vertical-align: middle;\n",
       "    }\n",
       "\n",
       "    .dataframe tbody tr th {\n",
       "        vertical-align: top;\n",
       "    }\n",
       "\n",
       "    .dataframe thead tr th {\n",
       "        text-align: left;\n",
       "    }\n",
       "\n",
       "    .dataframe thead tr:last-of-type th {\n",
       "        text-align: right;\n",
       "    }\n",
       "</style>\n",
       "<table border=\"1\" class=\"dataframe\">\n",
       "  <thead>\n",
       "    <tr>\n",
       "      <th></th>\n",
       "      <th colspan=\"4\" halign=\"left\">price</th>\n",
       "      <th>amount</th>\n",
       "    </tr>\n",
       "    <tr>\n",
       "      <th></th>\n",
       "      <th>open</th>\n",
       "      <th>high</th>\n",
       "      <th>low</th>\n",
       "      <th>close</th>\n",
       "      <th>amount</th>\n",
       "    </tr>\n",
       "    <tr>\n",
       "      <th>timestamp</th>\n",
       "      <th></th>\n",
       "      <th></th>\n",
       "      <th></th>\n",
       "      <th></th>\n",
       "      <th></th>\n",
       "    </tr>\n",
       "  </thead>\n",
       "  <tbody>\n",
       "    <tr>\n",
       "      <th>2022-05-10 00:00:00</th>\n",
       "      <td>30075.19</td>\n",
       "      <td>30842.21</td>\n",
       "      <td>29758.78</td>\n",
       "      <td>30770.010</td>\n",
       "      <td>897.80374</td>\n",
       "    </tr>\n",
       "    <tr>\n",
       "      <th>2022-05-10 01:00:00</th>\n",
       "      <td>30722.91</td>\n",
       "      <td>31340.94</td>\n",
       "      <td>30702.40</td>\n",
       "      <td>30900.682</td>\n",
       "      <td>751.42903</td>\n",
       "    </tr>\n",
       "    <tr>\n",
       "      <th>2022-05-10 02:00:00</th>\n",
       "      <td>30883.21</td>\n",
       "      <td>31390.16</td>\n",
       "      <td>30797.60</td>\n",
       "      <td>31033.700</td>\n",
       "      <td>731.59613</td>\n",
       "    </tr>\n",
       "    <tr>\n",
       "      <th>2022-05-10 03:00:00</th>\n",
       "      <td>31045.10</td>\n",
       "      <td>31152.46</td>\n",
       "      <td>30640.13</td>\n",
       "      <td>30664.400</td>\n",
       "      <td>729.39643</td>\n",
       "    </tr>\n",
       "    <tr>\n",
       "      <th>2022-05-10 04:00:00</th>\n",
       "      <td>30682.08</td>\n",
       "      <td>31340.86</td>\n",
       "      <td>30602.80</td>\n",
       "      <td>31215.350</td>\n",
       "      <td>768.91706</td>\n",
       "    </tr>\n",
       "  </tbody>\n",
       "</table>\n",
       "</div>"
      ],
      "text/plain": [
       "                        price                                    amount\n",
       "                         open      high       low      close     amount\n",
       "timestamp                                                              \n",
       "2022-05-10 00:00:00  30075.19  30842.21  29758.78  30770.010  897.80374\n",
       "2022-05-10 01:00:00  30722.91  31340.94  30702.40  30900.682  751.42903\n",
       "2022-05-10 02:00:00  30883.21  31390.16  30797.60  31033.700  731.59613\n",
       "2022-05-10 03:00:00  31045.10  31152.46  30640.13  30664.400  729.39643\n",
       "2022-05-10 04:00:00  30682.08  31340.86  30602.80  31215.350  768.91706"
      ]
     },
     "execution_count": 24,
     "metadata": {},
     "output_type": "execute_result"
    }
   ],
   "source": [
    "OHLCV.head()"
   ]
  },
  {
   "cell_type": "markdown",
   "metadata": {},
   "source": [
    "<hr style=\"border:0.02in solid gray\"> </hr>"
   ]
  },
  {
   "cell_type": "markdown",
   "metadata": {},
   "source": [
    "<br>"
   ]
  },
  {
   "cell_type": "markdown",
   "metadata": {},
   "source": [
    "# <font color= #6B6B6B> <font size = 6> 5. Results </font>"
   ]
  },
  {
   "cell_type": "markdown",
   "metadata": {},
   "source": [
    "<hr style=\"border:0.02in solid gray\"> </hr>"
   ]
  },
  {
   "cell_type": "markdown",
   "metadata": {},
   "source": [
    "## <font color= #6B6B6B> <font size = 6> 5.1 OrderBook Results </font>"
   ]
  },
  {
   "cell_type": "markdown",
   "metadata": {},
   "source": [
    "It can be highlighted that, when the *Spread* is lower, the *Bid & Ask Volumes* are the closest.\n",
    "Whilst the *OrderBook Imbalance* remained positive the entire time, it was relatively close, which means that the *Spread*, wasn't high enough to make the orders cross the *Spread*.\n",
    "\n",
    "The *Weighted Mid Price (Ask)* was significantly lower than the *Weighted Mid Price (Bid)*, in fact, it was almost exactly half. This can be attributed to the calculation method of the *Weighted Mid Price (Ask)*, which uses only one source of prices.\n",
    "\n",
    "The *VWAP* remained relatively close to the Mid Price the entire time, which means that, adjusted to volume, the average price remained really close to the settlements between Bids and Asks.\n",
    "\n",
    "Observing the *OrderBook Imbalance* through a Histogram, we can observe that most of the time, the imbalance remained stable between 0.3 and 0.6."
   ]
  },
  {
   "cell_type": "markdown",
   "metadata": {},
   "source": [
    "## <font color= #6B6B6B> <font size = 6> 5.2 Public Trades Results </font>"
   ]
  },
  {
   "cell_type": "markdown",
   "metadata": {},
   "source": [
    "We can observe that, hour-by-hour, the amount of Public Trades remained roughly the same.\n",
    "\n",
    "We can also observe, that despite the *volume* being heavily biased towards selling, the *Difference in Trade Count* remained on the side of *Buying*, 1300 trades on that side."
   ]
  },
  {
   "cell_type": "markdown",
   "metadata": {},
   "source": [
    "## <font color= #6B6B6B> <font size = 6> 6. Final Conclusions </font>\n"
   ]
  },
  {
   "cell_type": "markdown",
   "metadata": {},
   "source": [
    "Market Microstructures provide a more in-depth analysis of the financial markets, on top of the traditional analysis already being made. This type of analysis includes a snapshot of the current trends observing the OrderBook, which provides us insight on how many Bids or Asks are being made, and this is chained with their prices to get a more complete snapshot of the market.\n",
    "Due to the sheer size of the market, the amount of transactions needs to be observed on the miliseconds order, which is both more precise and more intensive in resources.\n",
    "\n",
    "\n",
    "A more structured set of instructions, provided for this Laboratory, would have been a welcome addition to this, but inspite of all the shortcomings, this Laboratory was a really interesting approach to the financial markets.\n",
    "\n",
    "Due to the nature and size constraint of the origin files for the OrderBook and Public Trades, more extensive analysis of more difficult market conditions wasn't possible, due to such market conditions not being present in the records.\n",
    "\n",
    "Due to time constraints, more in-depth visualization wasn't implemented, Parquet file type was possible, but not implemented, again, due to time constraints. "
   ]
  },
  {
   "cell_type": "markdown",
   "metadata": {},
   "source": [
    "<br>"
   ]
  },
  {
   "cell_type": "markdown",
   "metadata": {},
   "source": [
    "# <font color= #6B6B6B> <font size = 6> 7. References </font>"
   ]
  },
  {
   "cell_type": "markdown",
   "metadata": {},
   "source": [
    "<hr style=\"border:0.02in solid gray\"> </hr>"
   ]
  },
  {
   "cell_type": "markdown",
   "metadata": {},
   "source": [
    "[1] O'Hara, Maureen, Market Microstructure Theory, Blackwell, Oxford, 1995, ISBN 1-55786-443-8, p.1.\n",
    "\n",
    "[2]  R.Almgren and N.Chriss, \"Optimal execution of portfolio transactions\" J. Risk, 3 (Winter 2000/2001) pp.5–39"
   ]
  },
  {
   "cell_type": "markdown",
   "metadata": {},
   "source": [
    "<br>"
   ]
  }
 ],
 "metadata": {
  "kernelspec": {
   "display_name": "Python 3 (ipykernel)",
   "language": "python",
   "name": "python3"
  },
  "language_info": {
   "codemirror_mode": {
    "name": "ipython",
    "version": 3
   },
   "file_extension": ".py",
   "mimetype": "text/x-python",
   "name": "python",
   "nbconvert_exporter": "python",
   "pygments_lexer": "ipython3",
   "version": "3.8.12"
  }
 },
 "nbformat": 4,
 "nbformat_minor": 4
}
