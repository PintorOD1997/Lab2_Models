{
 "cells": [
  {
   "cell_type": "markdown",
   "metadata": {},
   "source": [
    "<center> <img src=\"https://jaliscocomovamos.org/wp-content/uploads/2021/04/iteso-logo.jpg\" align=\"center\" width=\"960\" height=\"480\"/> </center>"
   ]
  },
  {
   "cell_type": "markdown",
   "metadata": {},
   "source": [
    "<center><font color=#555555><font size=6> ITESO </font> <br> <br>\n",
    "    \n",
    "<center><font color=#555555><font size=5> Microstructure and Trading systems</font> <br> <br> <br> <br>\n",
    "\n",
    "<center><font color=#555555><font size=6> Diego Pintor Ochoa, if726622@iteso.mx </font> <br> <br>\n",
    "   \n",
    "<center> <font color= #555555> <font size = 4> June 2022 </a> | <font color= #555555> <font size = 4> Repository: <a href='https://github.com/PintorOD1997/Lab1-Market-Microstructure-'>Link</a></font>"
   ]
  },
  {
   "cell_type": "markdown",
   "metadata": {},
   "source": [
    "<hr style=\"border:0.02in solid gray\"> </hr>"
   ]
  },
  {
   "cell_type": "markdown",
   "metadata": {},
   "source": [
    "<center> <font color= #555555> <font size = 6> Laboratory 2 </font> <br> <br> <font color= #555555> <font size = 5> Models  </font>"
   ]
  },
  {
   "cell_type": "markdown",
   "metadata": {},
   "source": [
    "<hr style=\"border:0.02in solid gray\"> </hr>"
   ]
  },
  {
   "cell_type": "markdown",
   "metadata": {},
   "source": [
    "<br>"
   ]
  },
  {
   "cell_type": "markdown",
   "metadata": {},
   "source": [
    "<font color= #555555> <font size = 4> Abstract </font>"
   ]
  },
  {
   "cell_type": "markdown",
   "metadata": {},
   "source": [
    "<font color= #6B6B6B> <font size = 3>  This Laboratory was created with the purpose of demonstrating the basic metrics of the OrderBooks and Public Trades, providing quantitative insights on them, and highlighting the main concepts that will be used throughout the course.</font>"
   ]
  },
  {
   "cell_type": "markdown",
   "metadata": {},
   "source": [
    "<br>"
   ]
  },
  {
   "cell_type": "markdown",
   "metadata": {},
   "source": [
    "# <font color= #6B6B6B> <font size = 6> 1. Introduction </font>"
   ]
  },
  {
   "cell_type": "markdown",
   "metadata": {},
   "source": [
    "<hr style=\"border:0.02in solid gray\"> </hr>"
   ]
  },
  {
   "cell_type": "markdown",
   "metadata": {},
   "source": [
    "Market microstructure is a branch of finance concerned with the details of how exchange occurs in markets. While the theory of market microstructure applies to the exchange of real or financial assets, more evidence is available on the microstructure of financial markets due to the availability of transactions data from them.\n",
    "\n",
    "The major thrust of market microstructure research examines the ways in which the working processes of a market affect determinants of transaction costs, prices, quotes, volume, and trading behavior. In the twenty-first century, innovations have allowed an expansion into the study of the impact of market microstructure on the incidence of market abuse, such as insider trading, market manipulation and broker-client conflict.\n",
    "\n"
   ]
  },
  {
   "cell_type": "markdown",
   "metadata": {},
   "source": [
    "<br>"
   ]
  },
  {
   "cell_type": "markdown",
   "metadata": {},
   "source": [
    "# <font color= #6B6B6B> 2. Install/Load Packages and Depedencies </font>"
   ]
  },
  {
   "cell_type": "markdown",
   "metadata": {},
   "source": [
    "<hr style=\"border:0.02in solid gray\"> </hr>"
   ]
  },
  {
   "cell_type": "markdown",
   "metadata": {},
   "source": [
    "## <font color= #6B6B6B> 2.1 Python Packages </font> <font color= #555555>"
   ]
  },
  {
   "cell_type": "markdown",
   "metadata": {},
   "source": [
    "In order to run this notebook, it is necessary to have installed and/or have the _requirements.txt_ file with the following: "
   ]
  },
  {
   "cell_type": "markdown",
   "metadata": {},
   "source": [
    "- pandas>=1.4.2\n",
    "- numpy>=1.18.5\n",
    "- jupyter>=1.0.0\n",
    "- plotly>=4.14\n"
   ]
  },
  {
   "cell_type": "markdown",
   "metadata": {},
   "source": [
    "## <font color= #6B6B6B> 2.2 Files Dependencies </font> <font color= #555555>"
   ]
  },
  {
   "cell_type": "markdown",
   "metadata": {},
   "source": [
    "The following are the file dependencies that are needed to run this notebook:"
   ]
  },
  {
   "cell_type": "markdown",
   "metadata": {},
   "source": [
    "- files/orderbooks_05jul21.json : Orderbook in JSON format\n"
   ]
  },
  {
   "cell_type": "markdown",
   "metadata": {},
   "source": [
    "## <font color= #6E6E6E> 2.3 Install Packages</font>"
   ]
  },
  {
   "cell_type": "code",
   "execution_count": 1,
   "metadata": {},
   "outputs": [],
   "source": [
    "%%capture\n",
    "#!{sys.executable} -m pip install -r requirements.txt\n",
    "# Install all the pip packages in the requirements.txt\n",
    "import numpy as np\n",
    "import pandas as pd\n",
    "import data as dt\n",
    "import functions as ft\n"
   ]
  },
  {
   "cell_type": "markdown",
   "metadata": {},
   "source": [
    "<br>"
   ]
  },
  {
   "cell_type": "markdown",
   "metadata": {},
   "source": [
    "# <font color= #6B6B6B> 3. Data Description </font>\n",
    "\n",
    "### With the purpose of evaluating the previously stated models, OrderBook mid prices will be employed as price references. "
   ]
  },
  {
   "cell_type": "markdown",
   "metadata": {},
   "source": [
    "<hr style=\"border:0.02in solid gray\"> </hr>"
   ]
  },
  {
   "cell_type": "code",
   "execution_count": 2,
   "metadata": {},
   "outputs": [
    {
     "data": {
      "text/html": [
       "<div>\n",
       "<style scoped>\n",
       "    .dataframe tbody tr th:only-of-type {\n",
       "        vertical-align: middle;\n",
       "    }\n",
       "\n",
       "    .dataframe tbody tr th {\n",
       "        vertical-align: top;\n",
       "    }\n",
       "\n",
       "    .dataframe thead th {\n",
       "        text-align: right;\n",
       "    }\n",
       "</style>\n",
       "<table border=\"1\" class=\"dataframe\">\n",
       "  <thead>\n",
       "    <tr style=\"text-align: right;\">\n",
       "      <th></th>\n",
       "      <th>Mid Price</th>\n",
       "    </tr>\n",
       "  </thead>\n",
       "  <tbody>\n",
       "    <tr>\n",
       "      <th>2021-07-05 13:06:46.571000+00:00</th>\n",
       "      <td>28272.5</td>\n",
       "    </tr>\n",
       "    <tr>\n",
       "      <th>2021-07-05 13:06:47.918000+00:00</th>\n",
       "      <td>28272.5</td>\n",
       "    </tr>\n",
       "    <tr>\n",
       "      <th>2021-07-05 13:06:49.414000+00:00</th>\n",
       "      <td>28272.5</td>\n",
       "    </tr>\n",
       "    <tr>\n",
       "      <th>2021-07-05 13:06:51.077000+00:00</th>\n",
       "      <td>28276.5</td>\n",
       "    </tr>\n",
       "    <tr>\n",
       "      <th>2021-07-05 13:06:52.426000+00:00</th>\n",
       "      <td>28276.5</td>\n",
       "    </tr>\n",
       "  </tbody>\n",
       "</table>\n",
       "</div>"
      ],
      "text/plain": [
       "                                  Mid Price\n",
       "2021-07-05 13:06:46.571000+00:00    28272.5\n",
       "2021-07-05 13:06:47.918000+00:00    28272.5\n",
       "2021-07-05 13:06:49.414000+00:00    28272.5\n",
       "2021-07-05 13:06:51.077000+00:00    28276.5\n",
       "2021-07-05 13:06:52.426000+00:00    28276.5"
      ]
     },
     "execution_count": 2,
     "metadata": {},
     "output_type": "execute_result"
    }
   ],
   "source": [
    "# Load Data\n",
    "# OrderBook opening using data openOB function\n",
    "data_ob = dt.openOB()\n",
    "# Orderbook timestamp\n",
    "ob_ts = list(data_ob.keys())\n",
    "# Timestamp listing\n",
    "l_ts = [pd.to_datetime(i_ts) for i_ts in ob_ts]\n",
    "# MidPrice, using the metrics dataframe from the functions library\n",
    "x,_,_ = ft.OB_metrics(data_ob)\n",
    "midprice = x[\"Mid Price\"]\n",
    "pd.DataFrame(midprice).head()"
   ]
  },
  {
   "cell_type": "code",
   "execution_count": 3,
   "metadata": {},
   "outputs": [
    {
     "data": {
      "image/png": "[encoded data removed]",
      "text/plain": [
       "<Figure size 432x288 with 1 Axes>"
      ]
     },
     "metadata": {
      "needs_background": "light"
     },
     "output_type": "display_data"
    }
   ],
   "source": [
    "pd.DataFrame(midprice).hist();"
   ]
  },
  {
   "cell_type": "markdown",
   "metadata": {},
   "source": [
    "# <font color= #6B6B6B> 4.1. Experiment 1. APT Model for all mid prices  </font>"
   ]
  },
  {
   "cell_type": "code",
   "execution_count": 6,
   "metadata": {
    "scrolled": true
   },
   "outputs": [],
   "source": [
    "# Martingale count, all scenarios\n",
    "\n",
    "e1 = [midprice[i] == midprice[i+1] for i in range(len(midprice)-1)]\n",
    "e2 = [midprice[i] != midprice[i+1] for i in range(len(midprice)-1)]\n",
    "\n",
    "APT_dic = {\"e1\" : {\"Amount\" : sum(e1), \"Ratio\" : sum(e1)/len(midprice)}, \n",
    "            \"e2\" : {\"Amount\" : sum(e2), \"Ratio\" : sum(e2)/len(midprice)},\n",
    "            \"total\" : len(midprice)-1 }\n",
    "\n",
    "# Asset Pricing Theory, DataFrame results\n",
    "APT_df = pd.DataFrame(APT_dic).T"
   ]
  },
  {
   "cell_type": "code",
   "execution_count": 7,
   "metadata": {},
   "outputs": [
    {
     "data": {
      "text/html": [
       "<div>\n",
       "<style scoped>\n",
       "    .dataframe tbody tr th:only-of-type {\n",
       "        vertical-align: middle;\n",
       "    }\n",
       "\n",
       "    .dataframe tbody tr th {\n",
       "        vertical-align: top;\n",
       "    }\n",
       "\n",
       "    .dataframe thead th {\n",
       "        text-align: right;\n",
       "    }\n",
       "</style>\n",
       "<table border=\"1\" class=\"dataframe\">\n",
       "  <thead>\n",
       "    <tr style=\"text-align: right;\">\n",
       "      <th></th>\n",
       "      <th>Amount</th>\n",
       "      <th>Ratio</th>\n",
       "    </tr>\n",
       "  </thead>\n",
       "  <tbody>\n",
       "    <tr>\n",
       "      <th>e1</th>\n",
       "      <td>1763.0</td>\n",
       "      <td>0.734277</td>\n",
       "    </tr>\n",
       "    <tr>\n",
       "      <th>e2</th>\n",
       "      <td>637.0</td>\n",
       "      <td>0.265306</td>\n",
       "    </tr>\n",
       "    <tr>\n",
       "      <th>total</th>\n",
       "      <td>2400.0</td>\n",
       "      <td>2400.000000</td>\n",
       "    </tr>\n",
       "  </tbody>\n",
       "</table>\n",
       "</div>"
      ],
      "text/plain": [
       "       Amount        Ratio\n",
       "e1     1763.0     0.734277\n",
       "e2      637.0     0.265306\n",
       "total  2400.0  2400.000000"
      ]
     },
     "execution_count": 7,
     "metadata": {},
     "output_type": "execute_result"
    }
   ],
   "source": [
    "APT_df"
   ]
  },
  {
   "cell_type": "markdown",
   "metadata": {},
   "source": [
    "# <font color= #6B6B6B> 4.2. Experiment 2. APT Model for minute-segmented prices  </font>\n",
    "\n",
    "In this case, the 60 minutes data of the orderbooks was segmented into each minute. This was in order for us to evaluate the model in a more constrained timeframe.\n",
    "Due to the calculations not considering the first trade of each minute, 60 trades were discarded, giving us 2340 trades in total instead of the previous 2400 trades."
   ]
  },
  {
   "cell_type": "code",
   "execution_count": 9,
   "metadata": {},
   "outputs": [],
   "source": [
    "### Second Experiment: Martingale evaluation of the Asset Pricing theory using minute segmented data\n",
    "midprice = pd.DataFrame(midprice)\n",
    "# Minute indexed dictionary, index is Hour + Minute, to avoid minute reprisal.\n",
    "dic = {}\n",
    "for index, row in midprice.iterrows():\n",
    "    key = str(index.hour) + \":\" + str(index.minute)\n",
    "    value = row[\"Mid Price\"]\n",
    "    try:\n",
    "        dic[key].append(value)\n",
    "    except KeyError:\n",
    "        dic[key] = [value]\n",
    "# Martingale Evaluation of the segmented data\n",
    "APT_exp2 = {}\n",
    "for i in list(dic): # <- iteración sobre índices del diccionario\n",
    "    e1 = sum([dic[i][i_t] == dic[i][i_t+1] for i_t in range(len(dic[i])-1)])\n",
    "    e2 = sum([dic[i][i_t] != dic[i][i_t+1] for i_t in range(len(dic[i])-1)])\n",
    "    APT_exp2[i] = (\n",
    "        {\"e1\" :{\"Amount\" :  e1, \"Ratio\" : e1/(len(dic[i])-1)}, \n",
    "         \"e2\" :{\"Amount\" :  e2, \"Ratio\" : e2/(len(dic[i])-1)},\n",
    "         \"total\" : len(dic[i])-1\n",
    "         }\n",
    "        )\n",
    "  \n",
    "# Experiment 2 results, for each minute, as DataFrame\n",
    "APT_minute_df = pd.DataFrame(data = {\n",
    "    \"e1\": [APT_exp2[i][\"e1\"][\"Amount\"] for i in list(APT_exp2)],\n",
    "    \"e2\": [APT_exp2[i][\"e2\"][\"Amount\"] for i in list(APT_exp2)],\n",
    "    \"Total\": [APT_exp2[i][\"total\"] for i in list(APT_exp2)],\n",
    "    \"Ratio e1\": [APT_exp2[i][\"e1\"][\"Ratio\"] for i in list(APT_exp2)],\n",
    "    \"Ratio e2\": [APT_exp2[i][\"e2\"][\"Ratio\"] for i in list(APT_exp2)]\n",
    "}, index = list(dic))\n",
    "\n",
    "# Experiment 2 results, Ratio mean and total trades\n",
    "APT_min_results_df = pd.DataFrame(data = {\n",
    "    \"e1 Ratio Mean\" : np.array(APT_minute_df[\"Ratio e1\"]).mean(),\n",
    "    \"e2 Ratio Mean\" : np.array(APT_minute_df[\"Ratio e2\"]).mean(),\n",
    "    \"Total Trades\" : np.array(APT_minute_df[\"Total\"]).sum()\n",
    "},index = range(1))"
   ]
  },
  {
   "cell_type": "code",
   "execution_count": 10,
   "metadata": {},
   "outputs": [
    {
     "data": {
      "text/html": [
       "<div>\n",
       "<style scoped>\n",
       "    .dataframe tbody tr th:only-of-type {\n",
       "        vertical-align: middle;\n",
       "    }\n",
       "\n",
       "    .dataframe tbody tr th {\n",
       "        vertical-align: top;\n",
       "    }\n",
       "\n",
       "    .dataframe thead th {\n",
       "        text-align: right;\n",
       "    }\n",
       "</style>\n",
       "<table border=\"1\" class=\"dataframe\">\n",
       "  <thead>\n",
       "    <tr style=\"text-align: right;\">\n",
       "      <th></th>\n",
       "      <th>e1</th>\n",
       "      <th>e2</th>\n",
       "      <th>Total</th>\n",
       "      <th>Ratio e1</th>\n",
       "      <th>Ratio e2</th>\n",
       "    </tr>\n",
       "  </thead>\n",
       "  <tbody>\n",
       "    <tr>\n",
       "      <th>13:6</th>\n",
       "      <td>6</td>\n",
       "      <td>2</td>\n",
       "      <td>8</td>\n",
       "      <td>0.750000</td>\n",
       "      <td>0.250000</td>\n",
       "    </tr>\n",
       "    <tr>\n",
       "      <th>13:7</th>\n",
       "      <td>27</td>\n",
       "      <td>13</td>\n",
       "      <td>40</td>\n",
       "      <td>0.675000</td>\n",
       "      <td>0.325000</td>\n",
       "    </tr>\n",
       "    <tr>\n",
       "      <th>13:8</th>\n",
       "      <td>31</td>\n",
       "      <td>8</td>\n",
       "      <td>39</td>\n",
       "      <td>0.794872</td>\n",
       "      <td>0.205128</td>\n",
       "    </tr>\n",
       "    <tr>\n",
       "      <th>13:9</th>\n",
       "      <td>27</td>\n",
       "      <td>11</td>\n",
       "      <td>38</td>\n",
       "      <td>0.710526</td>\n",
       "      <td>0.289474</td>\n",
       "    </tr>\n",
       "    <tr>\n",
       "      <th>13:10</th>\n",
       "      <td>30</td>\n",
       "      <td>10</td>\n",
       "      <td>40</td>\n",
       "      <td>0.750000</td>\n",
       "      <td>0.250000</td>\n",
       "    </tr>\n",
       "  </tbody>\n",
       "</table>\n",
       "</div>"
      ],
      "text/plain": [
       "       e1  e2  Total  Ratio e1  Ratio e2\n",
       "13:6    6   2      8  0.750000  0.250000\n",
       "13:7   27  13     40  0.675000  0.325000\n",
       "13:8   31   8     39  0.794872  0.205128\n",
       "13:9   27  11     38  0.710526  0.289474\n",
       "13:10  30  10     40  0.750000  0.250000"
      ]
     },
     "execution_count": 10,
     "metadata": {},
     "output_type": "execute_result"
    }
   ],
   "source": [
    "\n",
    "APT_minute_df.head()"
   ]
  },
  {
   "cell_type": "code",
   "execution_count": 11,
   "metadata": {},
   "outputs": [
    {
     "data": {
      "text/html": [
       "<div>\n",
       "<style scoped>\n",
       "    .dataframe tbody tr th:only-of-type {\n",
       "        vertical-align: middle;\n",
       "    }\n",
       "\n",
       "    .dataframe tbody tr th {\n",
       "        vertical-align: top;\n",
       "    }\n",
       "\n",
       "    .dataframe thead th {\n",
       "        text-align: right;\n",
       "    }\n",
       "</style>\n",
       "<table border=\"1\" class=\"dataframe\">\n",
       "  <thead>\n",
       "    <tr style=\"text-align: right;\">\n",
       "      <th></th>\n",
       "      <th>e1 Ratio Mean</th>\n",
       "      <th>e2 Ratio Mean</th>\n",
       "      <th>Total Trades</th>\n",
       "    </tr>\n",
       "  </thead>\n",
       "  <tbody>\n",
       "    <tr>\n",
       "      <th>0</th>\n",
       "      <td>0.743515</td>\n",
       "      <td>0.256485</td>\n",
       "      <td>2340</td>\n",
       "    </tr>\n",
       "  </tbody>\n",
       "</table>\n",
       "</div>"
      ],
      "text/plain": [
       "   e1 Ratio Mean  e2 Ratio Mean  Total Trades\n",
       "0       0.743515       0.256485          2340"
      ]
     },
     "execution_count": 11,
     "metadata": {},
     "output_type": "execute_result"
    }
   ],
   "source": [
    "APT_min_results_df"
   ]
  },
  {
   "cell_type": "markdown",
   "metadata": {},
   "source": [
    "# <font color= #6B6B6B> 4.3. Experiment 3. APT Model, both for all data and minute-segmented data, for the Volume-Weighted Mid Prices</font>"
   ]
  },
  {
   "cell_type": "code",
   "execution_count": 19,
   "metadata": {},
   "outputs": [],
   "source": [
    "x,_,_ = ft.OB_metrics(data_ob)\n",
    "Wmidprice = x[\"Weighted MidPrice (Ask)\"]\n",
    "e1 = [Wmidprice[i] == Wmidprice[i+1] for i in range(len(Wmidprice)-1)]\n",
    "e2 = [Wmidprice[i] != Wmidprice[i+1] for i in range(len(Wmidprice)-1)] # puede ser definido por antonomasia\n",
    "Wmetricas = {\"e1\" : {\"Amount\" : sum(e1), \"Ratio\" : sum(e1)/len(Wmidprice)}, \n",
    "            \"e2\" : {\"Amount\" : sum(e2), \"Ratio\" : sum(e2)/len(Wmidprice)},\n",
    "            \"total\" : len(Wmidprice)-1 }\n",
    "APT_df = pd.DataFrame(Wmetricas).T\n",
    "Wmidprice = pd.DataFrame(Wmidprice)\n",
    "Wdic = {}\n",
    "for index, row in Wmidprice.iterrows():\n",
    "    key = str(index.hour) + \":\" + str(index.minute)\n",
    "    value = row[\"Weighted MidPrice (Ask)\"]\n",
    "    try:\n",
    "        Wdic[key].append(value)\n",
    "    except KeyError:\n",
    "        Wdic[key] = [value]\n",
    "WAPT_exp2 = {}\n",
    "for i in list(Wdic):\n",
    "    e1 = sum([Wdic[i][i_t] == Wdic[i][i_t+1] for i_t in range(len(Wdic[i])-1)])\n",
    "    e2 = sum([Wdic[i][i_t] != Wdic[i][i_t+1] for i_t in range(len(Wdic[i])-1)])\n",
    "    WAPT_exp2[i] = (\n",
    "        {\"e1\" :{\"Amount\" :  e1, \"Ratio\" : e1/(len(Wdic[i])-1)}, \n",
    "         \"e2\" :{\"Amount\" :  e2, \"Ratio\" : e2/(len(Wdic[i])-1)},\n",
    "         \"total\" : len(Wdic[i])-1\n",
    "         }\n",
    "        )\n",
    "WAPT_minute_df = pd.DataFrame(data = {\n",
    "    \"e1\": [WAPT_exp2[i][\"e1\"][\"Amount\"] for i in list(WAPT_exp2)],\n",
    "    \"e2\": [WAPT_exp2[i][\"e2\"][\"Amount\"] for i in list(WAPT_exp2)],\n",
    "    \"Total\": [WAPT_exp2[i][\"total\"] for i in list(WAPT_exp2)],\n",
    "    \"Ratio e1\": [WAPT_exp2[i][\"e1\"][\"Ratio\"] for i in list(WAPT_exp2)],\n",
    "    \"Ratio e2\": [WAPT_exp2[i][\"e2\"][\"Ratio\"] for i in list(WAPT_exp2)]\n",
    "}, index = list(dic))\n",
    "WAPT_min_results_df = pd.DataFrame(data = {\n",
    "    \"e1 Ratio Mean\" : np.array(WAPT_minute_df[\"Ratio e1\"]).mean(),\n",
    "    \"e2 Ratio Mean\" : np.array(WAPT_minute_df[\"Ratio e2\"]).mean(),\n",
    "    \"Total Trades\" : np.array(WAPT_minute_df[\"Total\"]).sum()\n",
    "},index = range(1))"
   ]
  },
  {
   "cell_type": "code",
   "execution_count": 20,
   "metadata": {},
   "outputs": [
    {
     "data": {
      "text/html": [
       "<div>\n",
       "<style scoped>\n",
       "    .dataframe tbody tr th:only-of-type {\n",
       "        vertical-align: middle;\n",
       "    }\n",
       "\n",
       "    .dataframe tbody tr th {\n",
       "        vertical-align: top;\n",
       "    }\n",
       "\n",
       "    .dataframe thead th {\n",
       "        text-align: right;\n",
       "    }\n",
       "</style>\n",
       "<table border=\"1\" class=\"dataframe\">\n",
       "  <thead>\n",
       "    <tr style=\"text-align: right;\">\n",
       "      <th></th>\n",
       "      <th>Amount</th>\n",
       "      <th>Ratio</th>\n",
       "    </tr>\n",
       "  </thead>\n",
       "  <tbody>\n",
       "    <tr>\n",
       "      <th>e1</th>\n",
       "      <td>1622.0</td>\n",
       "      <td>0.675552</td>\n",
       "    </tr>\n",
       "    <tr>\n",
       "      <th>e2</th>\n",
       "      <td>778.0</td>\n",
       "      <td>0.324032</td>\n",
       "    </tr>\n",
       "    <tr>\n",
       "      <th>total</th>\n",
       "      <td>2400.0</td>\n",
       "      <td>2400.000000</td>\n",
       "    </tr>\n",
       "  </tbody>\n",
       "</table>\n",
       "</div>"
      ],
      "text/plain": [
       "       Amount        Ratio\n",
       "e1     1622.0     0.675552\n",
       "e2      778.0     0.324032\n",
       "total  2400.0  2400.000000"
      ]
     },
     "execution_count": 20,
     "metadata": {},
     "output_type": "execute_result"
    }
   ],
   "source": [
    "APT_df"
   ]
  },
  {
   "cell_type": "code",
   "execution_count": 21,
   "metadata": {},
   "outputs": [
    {
     "data": {
      "text/html": [
       "<div>\n",
       "<style scoped>\n",
       "    .dataframe tbody tr th:only-of-type {\n",
       "        vertical-align: middle;\n",
       "    }\n",
       "\n",
       "    .dataframe tbody tr th {\n",
       "        vertical-align: top;\n",
       "    }\n",
       "\n",
       "    .dataframe thead th {\n",
       "        text-align: right;\n",
       "    }\n",
       "</style>\n",
       "<table border=\"1\" class=\"dataframe\">\n",
       "  <thead>\n",
       "    <tr style=\"text-align: right;\">\n",
       "      <th></th>\n",
       "      <th>e1</th>\n",
       "      <th>e2</th>\n",
       "      <th>Total</th>\n",
       "      <th>Ratio e1</th>\n",
       "      <th>Ratio e2</th>\n",
       "    </tr>\n",
       "  </thead>\n",
       "  <tbody>\n",
       "    <tr>\n",
       "      <th>13:6</th>\n",
       "      <td>6</td>\n",
       "      <td>2</td>\n",
       "      <td>8</td>\n",
       "      <td>0.750000</td>\n",
       "      <td>0.250000</td>\n",
       "    </tr>\n",
       "    <tr>\n",
       "      <th>13:7</th>\n",
       "      <td>27</td>\n",
       "      <td>13</td>\n",
       "      <td>40</td>\n",
       "      <td>0.675000</td>\n",
       "      <td>0.325000</td>\n",
       "    </tr>\n",
       "    <tr>\n",
       "      <th>13:8</th>\n",
       "      <td>26</td>\n",
       "      <td>13</td>\n",
       "      <td>39</td>\n",
       "      <td>0.666667</td>\n",
       "      <td>0.333333</td>\n",
       "    </tr>\n",
       "    <tr>\n",
       "      <th>13:9</th>\n",
       "      <td>26</td>\n",
       "      <td>12</td>\n",
       "      <td>38</td>\n",
       "      <td>0.684211</td>\n",
       "      <td>0.315789</td>\n",
       "    </tr>\n",
       "    <tr>\n",
       "      <th>13:10</th>\n",
       "      <td>27</td>\n",
       "      <td>13</td>\n",
       "      <td>40</td>\n",
       "      <td>0.675000</td>\n",
       "      <td>0.325000</td>\n",
       "    </tr>\n",
       "  </tbody>\n",
       "</table>\n",
       "</div>"
      ],
      "text/plain": [
       "       e1  e2  Total  Ratio e1  Ratio e2\n",
       "13:6    6   2      8  0.750000  0.250000\n",
       "13:7   27  13     40  0.675000  0.325000\n",
       "13:8   26  13     39  0.666667  0.333333\n",
       "13:9   26  12     38  0.684211  0.315789\n",
       "13:10  27  13     40  0.675000  0.325000"
      ]
     },
     "execution_count": 21,
     "metadata": {},
     "output_type": "execute_result"
    }
   ],
   "source": [
    "WAPT_minute_df.head()"
   ]
  },
  {
   "cell_type": "code",
   "execution_count": 22,
   "metadata": {},
   "outputs": [
    {
     "data": {
      "text/html": [
       "<div>\n",
       "<style scoped>\n",
       "    .dataframe tbody tr th:only-of-type {\n",
       "        vertical-align: middle;\n",
       "    }\n",
       "\n",
       "    .dataframe tbody tr th {\n",
       "        vertical-align: top;\n",
       "    }\n",
       "\n",
       "    .dataframe thead th {\n",
       "        text-align: right;\n",
       "    }\n",
       "</style>\n",
       "<table border=\"1\" class=\"dataframe\">\n",
       "  <thead>\n",
       "    <tr style=\"text-align: right;\">\n",
       "      <th></th>\n",
       "      <th>e1 Ratio Mean</th>\n",
       "      <th>e2 Ratio Mean</th>\n",
       "      <th>Total Trades</th>\n",
       "    </tr>\n",
       "  </thead>\n",
       "  <tbody>\n",
       "    <tr>\n",
       "      <th>0</th>\n",
       "      <td>0.686378</td>\n",
       "      <td>0.313622</td>\n",
       "      <td>2340</td>\n",
       "    </tr>\n",
       "  </tbody>\n",
       "</table>\n",
       "</div>"
      ],
      "text/plain": [
       "   e1 Ratio Mean  e2 Ratio Mean  Total Trades\n",
       "0       0.686378       0.313622          2340"
      ]
     },
     "execution_count": 22,
     "metadata": {},
     "output_type": "execute_result"
    }
   ],
   "source": [
    "WAPT_min_results_df"
   ]
  },
  {
   "cell_type": "markdown",
   "metadata": {},
   "source": [
    "# <font color= #6B6B6B> 4.4. Public Trades Hourly Trades  </font>"
   ]
  },
  {
   "cell_type": "code",
   "execution_count": 16,
   "metadata": {},
   "outputs": [
    {
     "data": {
      "text/plain": [
       "timestamp\n",
       "2022-05-10 00:00:00    12000\n",
       "2022-05-10 01:00:00    11900\n",
       "2022-05-10 02:00:00    11900\n",
       "2022-05-10 03:00:00    11900\n",
       "2022-05-10 04:00:00    12000\n",
       "Freq: 60T, Name: side, dtype: int64"
      ]
     },
     "execution_count": 16,
     "metadata": {},
     "output_type": "execute_result"
    }
   ],
   "source": [
    "tradesHora.head()"
   ]
  },
  {
   "cell_type": "markdown",
   "metadata": {},
   "source": [
    "# <font color= #6B6B6B> 4.5. Sell and Buy Volume, Difference in Trade Count  </font>"
   ]
  },
  {
   "cell_type": "code",
   "execution_count": 20,
   "metadata": {},
   "outputs": [
    {
     "data": {
      "text/plain": [
       "side\n",
       "buy      7338.91217\n",
       "sell    10148.21080\n",
       "Name: amount, dtype: float64"
      ]
     },
     "execution_count": 20,
     "metadata": {},
     "output_type": "execute_result"
    }
   ],
   "source": [
    "volume"
   ]
  },
  {
   "cell_type": "code",
   "execution_count": 21,
   "metadata": {},
   "outputs": [
    {
     "data": {
      "text/plain": [
       "1300"
      ]
     },
     "execution_count": 21,
     "metadata": {},
     "output_type": "execute_result"
    }
   ],
   "source": [
    "count"
   ]
  },
  {
   "cell_type": "markdown",
   "metadata": {},
   "source": [
    "<br>"
   ]
  },
  {
   "cell_type": "markdown",
   "metadata": {},
   "source": [
    "# <font color= #6B6B6B> 4.6 Public Trades OHLVC  </font>"
   ]
  },
  {
   "cell_type": "code",
   "execution_count": 24,
   "metadata": {},
   "outputs": [
    {
     "data": {
      "text/html": [
       "<div>\n",
       "<style scoped>\n",
       "    .dataframe tbody tr th:only-of-type {\n",
       "        vertical-align: middle;\n",
       "    }\n",
       "\n",
       "    .dataframe tbody tr th {\n",
       "        vertical-align: top;\n",
       "    }\n",
       "\n",
       "    .dataframe thead tr th {\n",
       "        text-align: left;\n",
       "    }\n",
       "\n",
       "    .dataframe thead tr:last-of-type th {\n",
       "        text-align: right;\n",
       "    }\n",
       "</style>\n",
       "<table border=\"1\" class=\"dataframe\">\n",
       "  <thead>\n",
       "    <tr>\n",
       "      <th></th>\n",
       "      <th colspan=\"4\" halign=\"left\">price</th>\n",
       "      <th>amount</th>\n",
       "    </tr>\n",
       "    <tr>\n",
       "      <th></th>\n",
       "      <th>open</th>\n",
       "      <th>high</th>\n",
       "      <th>low</th>\n",
       "      <th>close</th>\n",
       "      <th>amount</th>\n",
       "    </tr>\n",
       "    <tr>\n",
       "      <th>timestamp</th>\n",
       "      <th></th>\n",
       "      <th></th>\n",
       "      <th></th>\n",
       "      <th></th>\n",
       "      <th></th>\n",
       "    </tr>\n",
       "  </thead>\n",
       "  <tbody>\n",
       "    <tr>\n",
       "      <th>2022-05-10 00:00:00</th>\n",
       "      <td>30075.19</td>\n",
       "      <td>30842.21</td>\n",
       "      <td>29758.78</td>\n",
       "      <td>30770.010</td>\n",
       "      <td>897.80374</td>\n",
       "    </tr>\n",
       "    <tr>\n",
       "      <th>2022-05-10 01:00:00</th>\n",
       "      <td>30722.91</td>\n",
       "      <td>31340.94</td>\n",
       "      <td>30702.40</td>\n",
       "      <td>30900.682</td>\n",
       "      <td>751.42903</td>\n",
       "    </tr>\n",
       "    <tr>\n",
       "      <th>2022-05-10 02:00:00</th>\n",
       "      <td>30883.21</td>\n",
       "      <td>31390.16</td>\n",
       "      <td>30797.60</td>\n",
       "      <td>31033.700</td>\n",
       "      <td>731.59613</td>\n",
       "    </tr>\n",
       "    <tr>\n",
       "      <th>2022-05-10 03:00:00</th>\n",
       "      <td>31045.10</td>\n",
       "      <td>31152.46</td>\n",
       "      <td>30640.13</td>\n",
       "      <td>30664.400</td>\n",
       "      <td>729.39643</td>\n",
       "    </tr>\n",
       "    <tr>\n",
       "      <th>2022-05-10 04:00:00</th>\n",
       "      <td>30682.08</td>\n",
       "      <td>31340.86</td>\n",
       "      <td>30602.80</td>\n",
       "      <td>31215.350</td>\n",
       "      <td>768.91706</td>\n",
       "    </tr>\n",
       "  </tbody>\n",
       "</table>\n",
       "</div>"
      ],
      "text/plain": [
       "                        price                                    amount\n",
       "                         open      high       low      close     amount\n",
       "timestamp                                                              \n",
       "2022-05-10 00:00:00  30075.19  30842.21  29758.78  30770.010  897.80374\n",
       "2022-05-10 01:00:00  30722.91  31340.94  30702.40  30900.682  751.42903\n",
       "2022-05-10 02:00:00  30883.21  31390.16  30797.60  31033.700  731.59613\n",
       "2022-05-10 03:00:00  31045.10  31152.46  30640.13  30664.400  729.39643\n",
       "2022-05-10 04:00:00  30682.08  31340.86  30602.80  31215.350  768.91706"
      ]
     },
     "execution_count": 24,
     "metadata": {},
     "output_type": "execute_result"
    }
   ],
   "source": [
    "OHLCV.head()"
   ]
  },
  {
   "cell_type": "markdown",
   "metadata": {},
   "source": [
    "<hr style=\"border:0.02in solid gray\"> </hr>"
   ]
  },
  {
   "cell_type": "markdown",
   "metadata": {},
   "source": [
    "<br>"
   ]
  },
  {
   "cell_type": "markdown",
   "metadata": {},
   "source": [
    "# <font color= #6B6B6B> <font size = 6> 5. Results </font>"
   ]
  },
  {
   "cell_type": "markdown",
   "metadata": {},
   "source": [
    "<hr style=\"border:0.02in solid gray\"> </hr>"
   ]
  },
  {
   "cell_type": "markdown",
   "metadata": {},
   "source": [
    "## <font color= #6B6B6B> <font size = 6> 5.1 OrderBook Results </font>"
   ]
  },
  {
   "cell_type": "markdown",
   "metadata": {},
   "source": [
    "It can be highlighted that, when the *Spread* is lower, the *Bid & Ask Volumes* are the closest.\n",
    "Whilst the *OrderBook Imbalance* remained positive the entire time, it was relatively close, which means that the *Spread*, wasn't high enough to make the orders cross the *Spread*.\n",
    "\n",
    "The *Weighted Mid Price (Ask)* was significantly lower than the *Weighted Mid Price (Bid)*, in fact, it was almost exactly half. This can be attributed to the calculation method of the *Weighted Mid Price (Ask)*, which uses only one source of prices.\n",
    "\n",
    "The *VWAP* remained relatively close to the Mid Price the entire time, which means that, adjusted to volume, the average price remained really close to the settlements between Bids and Asks.\n",
    "\n",
    "Observing the *OrderBook Imbalance* through a Histogram, we can observe that most of the time, the imbalance remained stable between 0.3 and 0.6."
   ]
  },
  {
   "cell_type": "markdown",
   "metadata": {},
   "source": [
    "## <font color= #6B6B6B> <font size = 6> 5.2 Public Trades Results </font>"
   ]
  },
  {
   "cell_type": "markdown",
   "metadata": {},
   "source": [
    "We can observe that, hour-by-hour, the amount of Public Trades remained roughly the same.\n",
    "\n",
    "We can also observe, that despite the *volume* being heavily biased towards selling, the *Difference in Trade Count* remained on the side of *Buying*, 1300 trades on that side."
   ]
  },
  {
   "cell_type": "markdown",
   "metadata": {},
   "source": [
    "## <font color= #6B6B6B> <font size = 6> 6. Final Conclusions </font>\n"
   ]
  },
  {
   "cell_type": "markdown",
   "metadata": {},
   "source": [
    "Market Microstructures provide a more in-depth analysis of the financial markets, on top of the traditional analysis already being made. This type of analysis includes a snapshot of the current trends observing the OrderBook, which provides us insight on how many Bids or Asks are being made, and this is chained with their prices to get a more complete snapshot of the market.\n",
    "Due to the sheer size of the market, the amount of transactions needs to be observed on the miliseconds order, which is both more precise and more intensive in resources.\n",
    "\n",
    "\n",
    "A more structured set of instructions, provided for this Laboratory, would have been a welcome addition to this, but inspite of all the shortcomings, this Laboratory was a really interesting approach to the financial markets.\n",
    "\n",
    "Due to the nature and size constraint of the origin files for the OrderBook and Public Trades, more extensive analysis of more difficult market conditions wasn't possible, due to such market conditions not being present in the records.\n",
    "\n",
    "Due to time constraints, more in-depth visualization wasn't implemented, Parquet file type was possible, but not implemented, again, due to time constraints. "
   ]
  },
  {
   "cell_type": "markdown",
   "metadata": {},
   "source": [
    "<br>"
   ]
  },
  {
   "cell_type": "markdown",
   "metadata": {},
   "source": [
    "# <font color= #6B6B6B> <font size = 6> 7. References </font>"
   ]
  },
  {
   "cell_type": "markdown",
   "metadata": {},
   "source": [
    "<hr style=\"border:0.02in solid gray\"> </hr>"
   ]
  },
  {
   "cell_type": "markdown",
   "metadata": {},
   "source": [
    "[1] O'Hara, Maureen, Market Microstructure Theory, Blackwell, Oxford, 1995, ISBN 1-55786-443-8, p.1.\n",
    "\n",
    "[2]  R.Almgren and N.Chriss, \"Optimal execution of portfolio transactions\" J. Risk, 3 (Winter 2000/2001) pp.5–39"
   ]
  },
  {
   "cell_type": "markdown",
   "metadata": {},
   "source": [
    "<br>"
   ]
  }
 ],
 "metadata": {
  "kernelspec": {
   "display_name": "Python 3.8.12 ('base')",
   "language": "python",
   "name": "python3"
  },
  "language_info": {
   "codemirror_mode": {
    "name": "ipython",
    "version": 3
   },
   "file_extension": ".py",
   "mimetype": "text/x-python",
   "name": "python",
   "nbconvert_exporter": "python",
   "pygments_lexer": "ipython3",
   "version": "3.8.12"
  },
  "vscode": {
   "interpreter": {
    "hash": "b578a6e1cf333ef1fa158f7df3e9c8bf34e1c0e4dd47ffd10bd0d1736134fe38"
   }
  }
 },
 "nbformat": 4,
 "nbformat_minor": 4
}
